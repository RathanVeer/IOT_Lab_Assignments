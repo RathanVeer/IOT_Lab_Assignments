{
 "cells": [
  {
   "cell_type": "markdown",
   "metadata": {},
   "source": [
    "# Waffle chart without waffle package"
   ]
  },
  {
   "cell_type": "code",
   "execution_count": 1,
   "metadata": {},
   "outputs": [],
   "source": [
    "import pandas as pd\n",
    "import numpy as np\n",
    "import matplotlib.pyplot as plt\n",
    "import matplotlib.patches as mpatches"
   ]
  },
  {
   "cell_type": "code",
   "execution_count": 2,
   "metadata": {},
   "outputs": [],
   "source": [
    "df = pd.DataFrame({\n",
    "    'state': ['Maharashtra', 'Kerala', 'Goa', 'Odisha'],\n",
    "    'medals': [812, 334, 120, 130] \n",
    "})"
   ]
  },
  {
   "cell_type": "code",
   "execution_count": 3,
   "metadata": {},
   "outputs": [
    {
     "data": {
      "text/html": [
       "<div>\n",
       "<style scoped>\n",
       "    .dataframe tbody tr th:only-of-type {\n",
       "        vertical-align: middle;\n",
       "    }\n",
       "\n",
       "    .dataframe tbody tr th {\n",
       "        vertical-align: top;\n",
       "    }\n",
       "\n",
       "    .dataframe thead th {\n",
       "        text-align: right;\n",
       "    }\n",
       "</style>\n",
       "<table border=\"1\" class=\"dataframe\">\n",
       "  <thead>\n",
       "    <tr style=\"text-align: right;\">\n",
       "      <th></th>\n",
       "      <th>state</th>\n",
       "      <th>medals</th>\n",
       "    </tr>\n",
       "  </thead>\n",
       "  <tbody>\n",
       "    <tr>\n",
       "      <th>0</th>\n",
       "      <td>Maharashtra</td>\n",
       "      <td>812</td>\n",
       "    </tr>\n",
       "    <tr>\n",
       "      <th>1</th>\n",
       "      <td>Kerala</td>\n",
       "      <td>334</td>\n",
       "    </tr>\n",
       "    <tr>\n",
       "      <th>2</th>\n",
       "      <td>Goa</td>\n",
       "      <td>120</td>\n",
       "    </tr>\n",
       "    <tr>\n",
       "      <th>3</th>\n",
       "      <td>Odisha</td>\n",
       "      <td>130</td>\n",
       "    </tr>\n",
       "  </tbody>\n",
       "</table>\n",
       "</div>"
      ],
      "text/plain": [
       "         state  medals\n",
       "0  Maharashtra     812\n",
       "1       Kerala     334\n",
       "2          Goa     120\n",
       "3       Odisha     130"
      ]
     },
     "execution_count": 3,
     "metadata": {},
     "output_type": "execute_result"
    }
   ],
   "source": [
    "df"
   ]
  },
  {
   "cell_type": "code",
   "execution_count": 4,
   "metadata": {},
   "outputs": [],
   "source": [
    "total=sum(df['medals'])"
   ]
  },
  {
   "cell_type": "code",
   "execution_count": 5,
   "metadata": {},
   "outputs": [
    {
     "data": {
      "text/plain": [
       "1396"
      ]
     },
     "execution_count": 5,
     "metadata": {},
     "output_type": "execute_result"
    }
   ],
   "source": [
    "total"
   ]
  },
  {
   "cell_type": "code",
   "execution_count": 6,
   "metadata": {},
   "outputs": [],
   "source": [
    "proportions = [(float(value) / total) for value in df['medals']]"
   ]
  },
  {
   "cell_type": "code",
   "execution_count": 7,
   "metadata": {},
   "outputs": [
    {
     "data": {
      "text/plain": [
       "[0.5816618911174785,\n",
       " 0.23925501432664756,\n",
       " 0.08595988538681948,\n",
       " 0.09312320916905444]"
      ]
     },
     "execution_count": 7,
     "metadata": {},
     "output_type": "execute_result"
    }
   ],
   "source": [
    "proportions"
   ]
  },
  {
   "cell_type": "code",
   "execution_count": 8,
   "metadata": {},
   "outputs": [],
   "source": [
    "width = 40\n",
    "height=10\n",
    "total= width * height"
   ]
  },
  {
   "cell_type": "code",
   "execution_count": 9,
   "metadata": {},
   "outputs": [],
   "source": [
    "tiles_per_category = [round(proportion * total) for proportion in proportions]"
   ]
  },
  {
   "cell_type": "code",
   "execution_count": 10,
   "metadata": {},
   "outputs": [
    {
     "data": {
      "text/plain": [
       "[233, 96, 34, 37]"
      ]
     },
     "execution_count": 10,
     "metadata": {},
     "output_type": "execute_result"
    }
   ],
   "source": [
    "tiles_per_category"
   ]
  },
  {
   "cell_type": "code",
   "execution_count": 11,
   "metadata": {},
   "outputs": [],
   "source": [
    "waffle = np.zeros((height, width))\n",
    "category_index = 0\n",
    "tile_index = 0\n",
    "for col in range(width):\n",
    "    for row in range(height):\n",
    "        tile_index += 1\n",
    "        if tile_index > sum(tiles_per_category[0:category_index]):\n",
    "            category_index += 1\n",
    "        waffle[row, col] = category_index"
   ]
  },
  {
   "cell_type": "code",
   "execution_count": 12,
   "metadata": {},
   "outputs": [
    {
     "data": {
      "text/plain": [
       "<matplotlib.colorbar.Colorbar at 0x1c02a64c9d0>"
      ]
     },
     "execution_count": 12,
     "metadata": {},
     "output_type": "execute_result"
    },
    {
     "data": {
      "text/plain": [
       "<Figure size 432x288 with 0 Axes>"
      ]
     },
     "metadata": {},
     "output_type": "display_data"
    },
    {
     "data": {
      "image/png": "[encoded data removed]",
      "text/plain": [
       "<Figure size 1152x288 with 2 Axes>"
      ]
     },
     "metadata": {
      "needs_background": "light"
     },
     "output_type": "display_data"
    }
   ],
   "source": [
    "fig = plt.figure()\n",
    "colormap = plt.cm.coolwarm\n",
    "plt.matshow(waffle, cmap=colormap)\n",
    "plt.colorbar()"
   ]
  },
  {
   "cell_type": "code",
   "execution_count": 13,
   "metadata": {},
   "outputs": [
    {
     "data": {
      "text/plain": [
       "<matplotlib.colorbar.Colorbar at 0x1c02aecc550>"
      ]
     },
     "execution_count": 13,
     "metadata": {},
     "output_type": "execute_result"
    },
    {
     "data": {
      "text/plain": [
       "<Figure size 432x288 with 0 Axes>"
      ]
     },
     "metadata": {},
     "output_type": "display_data"
    },
    {
     "data": {
      "image/png": "[encoded data removed]",
      "text/plain": [
       "<Figure size 1152x288 with 2 Axes>"
      ]
     },
     "metadata": {
      "needs_background": "light"
     },
     "output_type": "display_data"
    }
   ],
   "source": [
    "fig = plt.figure()\n",
    "colormap = plt.cm.coolwarm\n",
    "plt.matshow(waffle, cmap=colormap)\n",
    "ax = plt.gca()\n",
    "ax.set_xticks(np.arange(-0.5, (width), 1), minor=True)\n",
    "ax.set_yticks(np.arange(-0.5, (height), 1), minor=True)\n",
    "ax.grid(which='minor', color='w', linestyle='-', linewidth=2)\n",
    "plt.xticks([])\n",
    "plt.yticks([])\n",
    "plt.colorbar()"
   ]
  },
  {
   "cell_type": "code",
   "execution_count": 14,
   "metadata": {},
   "outputs": [
    {
     "data": {
      "text/plain": [
       "<matplotlib.colorbar.Colorbar at 0x1c02c00a790>"
      ]
     },
     "execution_count": 14,
     "metadata": {},
     "output_type": "execute_result"
    },
    {
     "data": {
      "text/plain": [
       "<Figure size 432x288 with 0 Axes>"
      ]
     },
     "metadata": {},
     "output_type": "display_data"
    },
    {
     "data": {
      "image/png": "[encoded data removed]",
      "text/plain": [
       "<Figure size 1152x288 with 2 Axes>"
      ]
     },
     "metadata": {
      "needs_background": "light"
     },
     "output_type": "display_data"
    }
   ],
   "source": [
    "fig = plt.figure()\n",
    "colormap = plt.cm.coolwarm\n",
    "plt.matshow(waffle, cmap=colormap)\n",
    "ax = plt.gca()\n",
    "ax.set_xticks(np.arange(-0.5, (width), 1), minor=True)\n",
    "ax.set_yticks(np.arange(-0.5, (height), 1), minor=True)\n",
    "ax.grid(which='minor', color='w', linestyle='-', linewidth=2)\n",
    "plt.xticks([])\n",
    "plt.yticks([])\n",
    "values = df['medals']\n",
    "categories = df['state']\n",
    "value_sign = ''\n",
    "values_cumsum = np.cumsum(values)\n",
    "total_values = values_cumsum[len(values_cumsum) - 1]\n",
    "legend_handles = []\n",
    "for i, category in enumerate(categories):\n",
    "    if value_sign == '%':\n",
    "        label_str = category + ' (' + str(values[i]) + value_sign + ')' \n",
    "    else:\n",
    "        label_str = category + ' (' + value_sign + str(values[i]) + ')'\n",
    "    color_val = colormap(float(values_cumsum[i]) / total_values)\n",
    "    legend_handles.append(mpatches.Patch(color=color_val, label=label_str))\n",
    "    \n",
    "plt.legend(handles=legend_handles, loc = 'lower center', ncol=len(categories),\n",
    "          bbox_to_anchor=(0., -0.2, 0.95, 0.1)) #positioning legends\n",
    "plt.colorbar()"
   ]
  },
  {
   "cell_type": "code",
   "execution_count": 15,
   "metadata": {
    "scrolled": true
   },
   "outputs": [
    {
     "name": "stdout",
     "output_type": "stream",
     "text": [
      "Collecting pywaffle\n",
      "  Downloading pywaffle-0.6.4-py2.py3-none-any.whl (565 kB)\n",
      "Requirement already satisfied: matplotlib in c:\\users\\ratha\\anaconda3\\lib\\site-packages (from pywaffle) (3.4.3)\n",
      "Requirement already satisfied: python-dateutil>=2.7 in c:\\users\\ratha\\anaconda3\\lib\\site-packages (from matplotlib->pywaffle) (2.8.2)\n",
      "Requirement already satisfied: kiwisolver>=1.0.1 in c:\\users\\ratha\\anaconda3\\lib\\site-packages (from matplotlib->pywaffle) (1.3.1)\n",
      "Requirement already satisfied: pillow>=6.2.0 in c:\\users\\ratha\\anaconda3\\lib\\site-packages (from matplotlib->pywaffle) (8.4.0)\n",
      "Requirement already satisfied: numpy>=1.16 in c:\\users\\ratha\\anaconda3\\lib\\site-packages (from matplotlib->pywaffle) (1.20.3)\n",
      "Requirement already satisfied: cycler>=0.10 in c:\\users\\ratha\\anaconda3\\lib\\site-packages (from matplotlib->pywaffle) (0.10.0)\n",
      "Requirement already satisfied: pyparsing>=2.2.1 in c:\\users\\ratha\\anaconda3\\lib\\site-packages (from matplotlib->pywaffle) (3.0.4)\n",
      "Requirement already satisfied: six in c:\\users\\ratha\\anaconda3\\lib\\site-packages (from cycler>=0.10->matplotlib->pywaffle) (1.16.0)\n",
      "Installing collected packages: pywaffle\n",
      "Successfully installed pywaffle-0.6.4\n",
      "Note: you may need to restart the kernel to use updated packages.\n"
     ]
    }
   ],
   "source": [
    "pip install pywaffle"
   ]
  },
  {
   "cell_type": "code",
   "execution_count": 16,
   "metadata": {},
   "outputs": [],
   "source": [
    "from pywaffle import Waffle"
   ]
  },
  {
   "cell_type": "code",
   "execution_count": 17,
   "metadata": {},
   "outputs": [
    {
     "data": {
      "image/png": "[encoded data removed]",
      "text/plain": [
       "<Waffle size 864x576 with 1 Axes>"
      ]
     },
     "metadata": {
      "needs_background": "light"
     },
     "output_type": "display_data"
    }
   ],
   "source": [
    "fig = plt.figure(\n",
    "    FigureClass=Waffle, \n",
    "    rows=10, \n",
    "    values=list(df.medals/5),\n",
    "    labels=list(df.state),\n",
    "    figsize=(12, 8),\n",
    "    legend={'bbox_to_anchor': (0.2, -0.1)}    \n",
    ")"
   ]
  },
  {
   "cell_type": "code",
   "execution_count": null,
   "metadata": {},
   "outputs": [],
   "source": []
  },
  {
   "cell_type": "code",
   "execution_count": null,
   "metadata": {},
   "outputs": [],
   "source": []
  }
 ],
 "metadata": {
  "kernelspec": {
   "display_name": "Python 3 (ipykernel)",
   "language": "python",
   "name": "python3"
  },
  "language_info": {
   "codemirror_mode": {
    "name": "ipython",
    "version": 3
   },
   "file_extension": ".py",
   "mimetype": "text/x-python",
   "name": "python",
   "nbconvert_exporter": "python",
   "pygments_lexer": "ipython3",
   "version": "3.9.7"
  }
 },
 "nbformat": 4,
 "nbformat_minor": 4
}
